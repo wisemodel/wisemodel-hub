{
 "cells": [
  {
   "cell_type": "markdown",
   "metadata": {},
   "source": [
    "### 文件下载测试"
   ]
  },
  {
   "cell_type": "code",
   "execution_count": null,
   "metadata": {},
   "outputs": [],
   "source": [
    "from wisemodel_hub import file_download\n",
    "\n",
    "\n",
    "repo_id = \"dadbear/wm_hub_upload_test\"\n",
    "file_name = \"model.pt\" #\"yuzhi_architecture.drawio.png\"\n",
    "local_dir = None # \"/home/zhangjingbo/.cache/wisemodel/hub_test\"\n",
    "branch = \"root-main-patch-53430\"\n",
    "force_download = True\n",
    "\n",
    "file_download(repo_id, file_name, local_dir=local_dir, revision=branch, force_download=force_download)"
   ]
  },
  {
   "cell_type": "markdown",
   "metadata": {},
   "source": [
    "### 大文件下载"
   ]
  },
  {
   "cell_type": "code",
   "execution_count": null,
   "metadata": {},
   "outputs": [],
   "source": [
    "from wisemodel_hub import lfs_file_download\n",
    "\n",
    "\n",
    "repo_id = \"dadbear/wm_hub_upload_test\"\n",
    "file_name = \"model.pt\"\n",
    "local_dir = \"/home/zhangjingbo/.cache/wisemodel/hub_test\"\n",
    "branch = \"root-main-patch-53430\"\n",
    "num_parts = 8\n",
    "force_download = True\n",
    "\n",
    "lfs_file_download(repo_id, file_name, local_dir=local_dir, revision=branch, num_parts=num_parts, force_download=force_download)"
   ]
  },
  {
   "cell_type": "markdown",
   "metadata": {},
   "source": [
    "### 下载整库，snap_download\n"
   ]
  },
  {
   "cell_type": "code",
   "execution_count": null,
   "metadata": {},
   "outputs": [],
   "source": [
    "from wisemodel_hub import snapshot_download\n",
    "\n",
    "\n",
    "repo_id= \"dadbear/wm_hub_upload_test\"\n",
    "local_dir = \"/home/zhangjingbo/.cache/wisemodel/hub_test\"\n",
    "branch = \"root-main-patch-53430\"\n",
    "regex_pattern = r\".*\\.(png|md|txt|pt)$\"\n",
    "num_parts = 8\n",
    "force_download = True\n",
    "\n",
    "snapshot_download(repo_id, local_dir=local_dir, revision=branch, regex_pattern=regex_pattern, num_parts=num_parts, force_download=force_download)"
   ]
  },
  {
   "cell_type": "markdown",
   "metadata": {},
   "source": [
    "### 获取库下文件列表"
   ]
  },
  {
   "cell_type": "code",
   "execution_count": null,
   "metadata": {},
   "outputs": [
    {
     "name": "stdout",
     "output_type": "stream",
     "text": [
      "['.gitattributes', 'README.md', 'app.py', 'constants.py', 'requirements.txt']\n"
     ]
    }
   ],
   "source": [
    "from wisemodel_hub.utils import get_file_names\n",
    "\n",
    "\n",
    "repo_id = \"SHYuanBest/ChronoMagic-Bench\"\n",
    "branch = \"main\"\n",
    "\n",
    "files = get_file_names(repo_id, branch)\n",
    "print(files)"
   ]
  },
  {
   "cell_type": "markdown",
   "metadata": {},
   "source": [
    "### 上传单个文件"
   ]
  },
  {
   "cell_type": "code",
   "execution_count": null,
   "metadata": {},
   "outputs": [],
   "source": [
    "from wisemodel_hub import upload_file\n",
    "\n",
    "\n",
    "# 示例调用\n",
    "file_path = \"/home/zhangjingbo/.cache/wisemodel/.token\"\n",
    "repo_id = \"dadbear/wm_hub_upload_test\"\n",
    "repo_type = \"datasets\"\n",
    "branch = \"main\"\n",
    "commit_message = \"添加文件\"\n",
    "chunk_size = 1024 * 1024  # 设置文件块大小，例如1 MB\n",
    "retries = 3\n",
    "timeout = 10\n",
    "upload_file(file_path, repo_id, repo_type, branch, commit_message, chunk_size, retries=retries, timeout=timeout)"
   ]
  },
  {
   "cell_type": "markdown",
   "metadata": {},
   "source": [
    "### 上传文件夹"
   ]
  },
  {
   "cell_type": "code",
   "execution_count": null,
   "metadata": {},
   "outputs": [],
   "source": [
    "from wisemodel_hub import push_to_hub\n",
    "\n",
    "\n",
    "# 示例调用\n",
    "dir_path = \"/home/zhangjingbo/.cache/modelscope/hub/iic/SenseVoiceSmall\"\n",
    "repo_id = \"dadbear/wm_hub_upload_test\"\n",
    "repo_type = \"datasets\"\n",
    "regex_pattern = \".*\\.(md|json|pt)$\"\n",
    "branch = \"main\"\n",
    "commit_message = \"添加文件\"\n",
    "chunk_size = 1024 * 1024  # 设置文件块大小，例如1 MB\n",
    "retries = 3  # 设置重试次数\n",
    "timeout = 10  # 设置超时时间\n",
    "push_to_hub(dir_path, repo_id, repo_type, regex_pattern, branch, commit_message, chunk_size, retries=retries, timeout=timeout)"
   ]
  },
  {
   "cell_type": "markdown",
   "metadata": {},
   "source": [
    "### 登录"
   ]
  },
  {
   "cell_type": "code",
   "execution_count": null,
   "metadata": {},
   "outputs": [
    {
     "data": {
      "application/vnd.jupyter.widget-view+json": {
       "model_id": "7c30fb6195064e9f92ca00b57a4cc712",
       "version_major": 2,
       "version_minor": 0
      },
      "text/plain": [
       "VBox(children=(HTML(value=\"<center> <img\\nsrc=https://www.wisemodel.cn/img/logo.31fb6580.png\\nalt='Wise Model'…"
      ]
     },
     "metadata": {},
     "output_type": "display_data"
    },
    {
     "data": {
      "application/vnd.jupyter.widget-view+json": {
       "model_id": "014ee480eeec464fa8e7d648572289fe",
       "version_major": 2,
       "version_minor": 0
      },
      "text/plain": [
       "Output()"
      ]
     },
     "metadata": {},
     "output_type": "display_data"
    }
   ],
   "source": [
    "from wisemodel_hub.auth import notebook_login\n",
    "\n",
    "\n",
    "notebook_login(new_session=True)"
   ]
  },
  {
   "cell_type": "markdown",
   "metadata": {},
   "source": [
    "### 使用git下载"
   ]
  },
  {
   "cell_type": "code",
   "execution_count": null,
   "metadata": {},
   "outputs": [
    {
     "name": "stdout",
     "output_type": "stream",
     "text": [
      "Already up to date.\n",
      "Repository dadbear/wm_upload_test_codes downloaded successfully to /home/zhangjingbo/.cache/wisemodel/heihei.\n"
     ]
    },
    {
     "name": "stderr",
     "output_type": "stream",
     "text": [
      "From https://www.wisemodel.cn/codes/dadbear/wm_upload_test_codes\n",
      " * branch            main       -> FETCH_HEAD\n"
     ]
    }
   ],
   "source": [
    "from wisemodel_hub import download_with_git\n",
    "\n",
    "\n",
    "# 示例使用方法\n",
    "access_token = \"your_access_token\"\n",
    "repo_id = \"dadbear/wm_upload_test_codes\"\n",
    "repo_type = \"codes\"\n",
    "#pattern = r\".*\\.json$\"    # 或者替换为正则表达式或具体文件名\n",
    "#pattern = r\"^constants\\.py$\"    # 或者替换为正则表达式或具体文件名\n",
    "pattern = None\n",
    "local_dir = \"/home/zhangjingbo/.cache/wisemodel/heihei\" # 或者替换为目标目录\n",
    "branch = \"main\"  # 或者替换为具体的分支名称\n",
    "\n",
    "download_with_git(access_token, repo_id, repo_type=repo_type, pattern=pattern, local_dir=local_dir, branch=branch)"
   ]
  },
  {
   "cell_type": "markdown",
   "metadata": {},
   "source": [
    "### 用git上传"
   ]
  },
  {
   "cell_type": "code",
   "execution_count": null,
   "metadata": {},
   "outputs": [
    {
     "name": "stdout",
     "output_type": "stream",
     "text": [
      "Uploading a.txt...\n",
      "Uploading b.txt...\n",
      "[main 844a111] upload files\n",
      " 2 files changed, 15 insertions(+), 1 deletion(-)\n",
      " create mode 100644 b.txt\n",
      "Branch 'main' set up to track remote branch 'main' from 'origin'.\n"
     ]
    },
    {
     "name": "stderr",
     "output_type": "stream",
     "text": [
      "To https://www.wisemodel.cn/codes/dadbear/wm_upload_test_codes.git\n",
      "   84d7e42..844a111  main -> main\n"
     ]
    }
   ],
   "source": [
    "from wisemodel_hub import upload_with_git\n",
    "\n",
    "\n",
    "#access_token = \"your_access_token\" # 在主站登录后，在https://www.wisemodel.cn/my-token 页面中，`git token`tab页内获取\n",
    "repo_id = \"dadbear/wm_upload_test_codes\"\n",
    "repo_type = \"codes\"     # datasets, models, or codes\n",
    "local_dir = \"/home/zhangjingbo/.cache/wisemodel/heihei\" # 或者替换为目标目录\n",
    "branch= \"main\"  # 或者替换为具体的分支名称\n",
    "#pattern = r'.*\\.(log|txt|json)$'    # 或者替换为正则表达式或具体文件名\n",
    "pattern = None\n",
    "commit_message = \"upload files\"\n",
    "\n",
    "upload_with_git(access_token, repo_id, repo_type, local_dir, branch=branch, pattern=pattern, commit_message=commit_message)"
   ]
  }
 ],
 "metadata": {
  "kernelspec": {
   "display_name": "python_310",
   "language": "python",
   "name": "python3"
  },
  "language_info": {
   "codemirror_mode": {
    "name": "ipython",
    "version": 3
   },
   "file_extension": ".py",
   "mimetype": "text/x-python",
   "name": "python",
   "nbconvert_exporter": "python",
   "pygments_lexer": "ipython3",
   "version": "3.10.14"
  }
 },
 "nbformat": 4,
 "nbformat_minor": 2
}
